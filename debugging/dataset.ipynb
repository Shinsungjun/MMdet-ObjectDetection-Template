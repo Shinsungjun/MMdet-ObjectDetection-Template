{
 "cells": [
  {
   "cell_type": "code",
   "execution_count": 1,
   "metadata": {},
   "outputs": [
    {
     "name": "stdout",
     "output_type": "stream",
     "text": [
      "/ws/HanhwaIRChallenge/MMdet-ObjectDetection/debugging/../projects/configs/baseline/baseline.py\n"
     ]
    },
    {
     "name": "stderr",
     "output_type": "stream",
     "text": [
      "/opt/conda/lib/python3.8/site-packages/tqdm/auto.py:21: TqdmWarning: IProgress not found. Please update jupyter and ipywidgets. See https://ipywidgets.readthedocs.io/en/stable/user_install.html\n",
      "  from .autonotebook import tqdm as notebook_tqdm\n"
     ]
    },
    {
     "name": "stdout",
     "output_type": "stream",
     "text": [
      "projects.mmdet_plugin\n"
     ]
    }
   ],
   "source": [
    "import os\n",
    "\n",
    "config_path = os.getcwd() + '/../projects/configs/baseline/baseline.py'\n",
    "print(config_path)\n",
    "from mmcv import Config, DictAction\n",
    "\n",
    "cfg = Config.fromfile(config_path)\n",
    "import sys\n",
    "sys.path.append('../')\n",
    "if cfg.plugin:\n",
    "    import importlib\n",
    "    if hasattr(cfg, 'plugin_dir'):\n",
    "        plugin_dir = cfg.plugin_dir\n",
    "        _module_dir = os.path.dirname(plugin_dir)\n",
    "        _module_dir = _module_dir.split('/')\n",
    "        _module_path = _module_dir[0]\n",
    "\n",
    "        for m in _module_dir[1:]:\n",
    "            _module_path = _module_path + '.' + m\n",
    "        print(_module_path)\n",
    "        plg_lib = importlib.import_module(_module_path)\n",
    "    else:\n",
    "        # import dir is the dirpath for the config file\n",
    "        _module_dir = os.path.dirname(args.config)\n",
    "        _module_dir = _module_dir.split('/')\n",
    "        _module_path = _module_dir[0]\n",
    "        for m in _module_dir[1:]:\n",
    "            _module_path = _module_path + '.' + m\n",
    "        print(_module_path)\n",
    "        plg_lib = importlib.import_module(_module_path)"
   ]
  },
  {
   "cell_type": "code",
   "execution_count": 2,
   "metadata": {},
   "outputs": [
    {
     "name": "stdout",
     "output_type": "stream",
     "text": [
      "loading annotations into memory...\n",
      "Done (t=0.33s)\n",
      "creating index...\n",
      "index created!\n"
     ]
    }
   ],
   "source": [
    "from mmdet.datasets import build_dataset\n",
    "datasets = [build_dataset(cfg.data.train)]"
   ]
  },
  {
   "cell_type": "code",
   "execution_count": 3,
   "metadata": {},
   "outputs": [
    {
     "data": {
      "text/plain": [
       "[\n",
       " HanhwaIRDataset Train dataset with number of images 7018, and instance counts: \n",
       " +------------+-------+-------------------+-------+-----------+-------+---------------+-------+-------------+-------+\n",
       " | category   | count | category          | count | category  | count | category      | count | category    | count |\n",
       " +------------+-------+-------------------+-------+-----------+-------+---------------+-------+-------------+-------+\n",
       " | 0 [person] | 13684 | 1 [car]           | 27753 | 2 [truck] | 2341  | 3 [bus]       | 1232  | 4 [bicycle] | 427   |\n",
       " |            |       |                   |       |           |       |               |       |             |       |\n",
       " | 5 [bike]   | 1172  | 6 [extra_vehicle] | 29    | 7 [dog]   | 3708  | -1 background | 199   |             |       |\n",
       " +------------+-------+-------------------+-------+-----------+-------+---------------+-------+-------------+-------+]"
      ]
     },
     "execution_count": 3,
     "metadata": {},
     "output_type": "execute_result"
    }
   ],
   "source": [
    "datasets"
   ]
  },
  {
   "cell_type": "code",
   "execution_count": null,
   "metadata": {},
   "outputs": [],
   "source": []
  }
 ],
 "metadata": {
  "kernelspec": {
   "display_name": "base",
   "language": "python",
   "name": "python3"
  },
  "language_info": {
   "codemirror_mode": {
    "name": "ipython",
    "version": 3
   },
   "file_extension": ".py",
   "mimetype": "text/x-python",
   "name": "python",
   "nbconvert_exporter": "python",
   "pygments_lexer": "ipython3",
   "version": "3.8.19"
  }
 },
 "nbformat": 4,
 "nbformat_minor": 2
}
