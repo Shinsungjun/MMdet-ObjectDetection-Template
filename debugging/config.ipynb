{
 "cells": [
  {
   "cell_type": "code",
   "execution_count": null,
   "metadata": {},
   "outputs": [],
   "source": [
    "# to use jupyter in vscode(docker), you need install jupyter & python extension on vscode\n",
    "# and run 'conda install -n base ipykernel --update-deps --force-reinstall' in terminal"
   ]
  },
  {
   "cell_type": "code",
   "execution_count": 1,
   "metadata": {},
   "outputs": [
    {
     "name": "stdout",
     "output_type": "stream",
     "text": [
      "/ws/HanhwaIRChallenge/MMdet-ObjectDetection/debugging/../projects/configs/baseline/baseline.py\n"
     ]
    }
   ],
   "source": [
    "import os\n",
    "\n",
    "config_path = os.getcwd() + '/../projects/configs/baseline/baseline.py'\n",
    "print(config_path)"
   ]
  },
  {
   "cell_type": "code",
   "execution_count": 2,
   "metadata": {},
   "outputs": [
    {
     "name": "stderr",
     "output_type": "stream",
     "text": [
      "/opt/conda/lib/python3.8/site-packages/tqdm/auto.py:21: TqdmWarning: IProgress not found. Please update jupyter and ipywidgets. See https://ipywidgets.readthedocs.io/en/stable/user_install.html\n",
      "  from .autonotebook import tqdm as notebook_tqdm\n"
     ]
    }
   ],
   "source": [
    "from mmcv import Config, DictAction\n",
    "\n",
    "cfg = Config.fromfile(config_path)"
   ]
  },
  {
   "cell_type": "code",
   "execution_count": 3,
   "metadata": {},
   "outputs": [
    {
     "data": {
      "text/plain": [
       "Config (path: /ws/HanhwaIRChallenge/MMdet-ObjectDetection/debugging/../projects/configs/baseline/baseline.py): {'dataset_type': 'HanhwaIRDataset', 'data_root': 'data/IRData/', 'img_norm_cfg': None, 'train_pipeline': [{'type': 'LoadImageFromFile', 'color_type': 'grayscale'}, {'type': 'LoadAnnotations', 'with_bbox': True}, {'type': 'RandomFlip', 'flip_ratio': 0.5}, {'type': 'DefaultFormatBundle'}, {'type': 'Collect', 'keys': ['img', 'gt_bboxes', 'gt_labels']}], 'test_pipeline': [{'type': 'LoadImageFromFile', 'color_type': 'grayscale'}, {'type': 'LoadAnnotations', 'with_bbox': True}, {'type': 'DefaultFormatBundle'}, {'type': 'Collect', 'keys': ['img', 'gt_bboxes', 'gt_labels']}], 'data': {'samples_per_gpu': 4, 'workers_per_gpu': 4, 'train': {'type': 'HanhwaIRDataset', 'ann_file': 'data/IRData/annotations/train.json', 'img_prefix': 'data/IRData/train/', 'pipeline': [{'type': 'LoadImageFromFile', 'color_type': 'grayscale'}, {'type': 'LoadAnnotations', 'with_bbox': True}, {'type': 'RandomFlip', 'flip_ratio': 0.5}, {'type': 'DefaultFormatBundle'}, {'type': 'Collect', 'keys': ['img', 'gt_bboxes', 'gt_labels']}], 'data_root': 'data/IRData/', 'classes': ['person', 'car', 'truck', 'bus', 'bicycle', 'bike', 'extra_vehicle', 'dog']}, 'val': {'type': 'HanhwaIRDataset', 'ann_file': 'data/IRData/annotations/val.json', 'img_prefix': 'data/IRData/val/', 'pipeline': [{'type': 'LoadImageFromFile', 'color_type': 'grayscale'}, {'type': 'LoadAnnotations', 'with_bbox': True}, {'type': 'DefaultFormatBundle'}, {'type': 'Collect', 'keys': ['img', 'gt_bboxes', 'gt_labels']}], 'data_root': 'data/IRData/', 'classes': ['person', 'car', 'truck', 'bus', 'bicycle', 'bike', 'extra_vehicle', 'dog']}, 'test': {'type': 'HanhwaIRDataset', 'ann_file': 'data/IRData/annotations/val.json', 'img_prefix': 'data/IRData/val/', 'pipeline': [{'type': 'LoadImageFromFile', 'color_type': 'grayscale'}, {'type': 'LoadAnnotations', 'with_bbox': True}, {'type': 'DefaultFormatBundle'}, {'type': 'Collect', 'keys': ['img', 'gt_bboxes', 'gt_labels']}], 'data_root': 'data/IRData/', 'classes': ['person', 'car', 'truck', 'bus', 'bicycle', 'bike', 'extra_vehicle', 'dog']}}, 'evaluation': {'interval': 1, 'metric': 'bbox'}, 'project': 'baseline', 'project_name': 'baseline', 'wandb_entity': 'holyjoon', 'backbone_norm_cfg': {'type': 'LN', 'requires_grad': True}, 'plugin': True, 'plugin_dir': 'projects/mmdet_plugin/', 'log_config': {'interval': 50, 'hooks': [{'type': 'TextLoggerHook'}, {'type': 'TesnroboardLoggerHook'}, {'type': 'MMDetWandbHook', 'by_epoch': False, 'init_kwargs': {'entity': 'holyjoon', 'project': 'baseline'}}]}, 'class_names': ['person', 'car', 'truck', 'bus', 'bicycle', 'bike', 'extra_vehicle', 'dog'], 'num_gpus': 1, 'batch_size': 4, 'num_epochs': 20, 'runner': {'type': 'EpochBasedRunner', 'max_epoch': 20}, 'lr_config': {'policy': 'step', 'warmup': 'linear', 'warmup_ratio': 0.001, 'step': [8, 11]}, 'optimizer': {'type': 'AdamW', 'lr': 0.0001, 'paramwise_cfg': {'custom_keys': {'backbone': {'lr_mult': 0.25}}}, 'weight_decay': 0.01}, 'load_from': None, 'resume_from': None}"
      ]
     },
     "execution_count": 3,
     "metadata": {},
     "output_type": "execute_result"
    }
   ],
   "source": [
    "cfg"
   ]
  },
  {
   "cell_type": "code",
   "execution_count": 4,
   "metadata": {},
   "outputs": [
    {
     "data": {
      "text/plain": [
       "True"
      ]
     },
     "execution_count": 4,
     "metadata": {},
     "output_type": "execute_result"
    }
   ],
   "source": [
    "cfg.get('custom_imports', None) == None"
   ]
  },
  {
   "cell_type": "code",
   "execution_count": 5,
   "metadata": {},
   "outputs": [
    {
     "data": {
      "text/plain": [
       "True"
      ]
     },
     "execution_count": 5,
     "metadata": {},
     "output_type": "execute_result"
    }
   ],
   "source": [
    "hasattr(cfg, 'plugin')"
   ]
  },
  {
   "cell_type": "code",
   "execution_count": 7,
   "metadata": {},
   "outputs": [
    {
     "name": "stdout",
     "output_type": "stream",
     "text": [
      "projects.mmdet_plugin\n"
     ]
    }
   ],
   "source": [
    "import sys\n",
    "sys.path.append('../')\n",
    "if cfg.plugin:\n",
    "    import importlib\n",
    "    if hasattr(cfg, 'plugin_dir'):\n",
    "        plugin_dir = cfg.plugin_dir\n",
    "        _module_dir = os.path.dirname(plugin_dir)\n",
    "        _module_dir = _module_dir.split('/')\n",
    "        _module_path = _module_dir[0]\n",
    "\n",
    "        for m in _module_dir[1:]:\n",
    "            _module_path = _module_path + '.' + m\n",
    "        print(_module_path)\n",
    "        plg_lib = importlib.import_module(_module_path)\n",
    "    else:\n",
    "        # import dir is the dirpath for the config file\n",
    "        _module_dir = os.path.dirname(args.config)\n",
    "        _module_dir = _module_dir.split('/')\n",
    "        _module_path = _module_dir[0]\n",
    "        for m in _module_dir[1:]:\n",
    "            _module_path = _module_path + '.' + m\n",
    "        print(_module_path)\n",
    "        plg_lib = importlib.import_module(_module_path)"
   ]
  },
  {
   "cell_type": "code",
   "execution_count": null,
   "metadata": {},
   "outputs": [],
   "source": [
    "/ws/HanhwaIRChallenge/MMdet-ObjectDetection/mmdetection/configs/_base_\n",
    "/ws/HanhwaIRChallenge/MMdet-ObjectDetection/mmdetection/configs/_base_/mmdetection/configs/_base_/default_runtime.py"
   ]
  }
 ],
 "metadata": {
  "kernelspec": {
   "display_name": "base",
   "language": "python",
   "name": "python3"
  },
  "language_info": {
   "codemirror_mode": {
    "name": "ipython",
    "version": 3
   },
   "file_extension": ".py",
   "mimetype": "text/x-python",
   "name": "python",
   "nbconvert_exporter": "python",
   "pygments_lexer": "ipython3",
   "version": "3.8.19"
  }
 },
 "nbformat": 4,
 "nbformat_minor": 2
}
